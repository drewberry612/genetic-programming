{
  "cells": [
    {
      "cell_type": "markdown",
      "metadata": {
        "id": "HizTRMV1Aul9"
      },
      "source": [
        "CE310 Evolutionary Computation and Genetic Programming<br>\n",
        "Riccardo Poli, Spring 2023\n",
        "<br>Drew Berry RegNo: 2000878\n",
        "### Assignment: Programming Assignment and mini project Part 2 (of 2) – Mini project\n",
        "### Genetic Programming and Symbolic Regression\n",
        "For information on on symbolic regression see the learning material on Moodle or visit: \n",
        "https://en.wikipedia.org/wiki/Symbolic_regression"
      ]
    },
    {
      "cell_type": "code",
      "execution_count": 30,
      "metadata": {
        "colab": {
          "base_uri": "https://localhost:8080/"
        },
        "id": "o9F9WnKa_vql",
        "outputId": "50be7192-9107-4bfa-ec90-9d306b539ab2"
      },
      "outputs": [
        {
          "output_type": "stream",
          "name": "stdout",
          "text": [
            "Looking in indexes: https://pypi.org/simple, https://us-python.pkg.dev/colab-wheels/public/simple/\n",
            "Requirement already satisfied: deap in /usr/local/lib/python3.9/dist-packages (1.3.3)\n",
            "Requirement already satisfied: numpy in /usr/local/lib/python3.9/dist-packages (from deap) (1.22.4)\n"
          ]
        }
      ],
      "source": [
        "# Install DEAP toolbox\n",
        "# https://deap.readthedocs.io/en/master/index.html\n",
        "\n",
        "# Anaconda:\n",
        "# easy_install deap\n",
        "\n",
        "# Google Colab:\n",
        "!pip install deap"
      ]
    },
    {
      "cell_type": "code",
      "execution_count": 31,
      "metadata": {
        "id": "DVSVIpw1I_Rj"
      },
      "outputs": [],
      "source": [
        "# Import relevant Python modules\n",
        "import operator\n",
        "import math\n",
        "import random\n",
        "import numpy  as np\n",
        "from matplotlib import pyplot\n",
        "\n",
        "# Import DEAP modules\n",
        "from deap import algorithms\n",
        "from deap import base\n",
        "from deap import creator\n",
        "from deap import tools\n",
        "from deap import gp"
      ]
    },
    {
      "cell_type": "code",
      "execution_count": 297,
      "metadata": {
        "colab": {
          "base_uri": "https://localhost:8080/",
          "height": 295
        },
        "id": "c0xjSP7JvMZa",
        "outputId": "2e455b92-05fa-4766-d83d-9174c45c3488"
      },
      "outputs": [
        {
          "output_type": "display_data",
          "data": {
            "text/plain": [
              "<Figure size 1080x288 with 1 Axes>"
            ],
            "image/png": "[encoded data removed]"
          },
          "metadata": {
            "needs_background": "light"
          }
        }
      ],
      "source": [
        "# ====================================================================\n",
        "# PARAMETERS - change the parameters in this section\n",
        "# Population size: 500 vs 2000\n",
        "# Tournament Size: 2 vs 5\n",
        "# repeat at least 10 times per setting\n",
        "\n",
        "no_generations = 30   # number of generations\n",
        "no_population = 2000   # population size\n",
        "no_tournaments =  5   # tournament size\n",
        "\n",
        "# other parameters that you can change and explore\n",
        "p_xo = 0.7  # XO rate\n",
        "p_m  = 0.3  # Mutation rate\n",
        "UseSqError = True # use Least Squares approach \n",
        "\n",
        "# ====================================================================\n",
        "# Define your Problems/Target Functions and create sample data\n",
        "# Assume you make measurments at specific test points:\n",
        "\n",
        "test_points = np.linspace(-math.pi,math.pi, 65).tolist()\n",
        "measurement = lambda x: 5 * x ** 5 + 4 * x ** 4 + 3 * x ** 3 + 2 * x ** 2 + x\n",
        "#measurement = lambda x: 4 * math.sin(5 * math.pi * x / 4)\n",
        "\n",
        "# ====================================================================\n",
        "\n",
        "target = np.empty(len(test_points))\n",
        "for i in range(len(test_points)): target[i] = measurement(test_points[i])\n",
        "\n",
        "fig, ax = pyplot.subplots(figsize=(15,4))\n",
        "ax.scatter(test_points, target)\n",
        "ax.set_xlabel('Test points')\n",
        "ax.set_ylabel('Measurements')\n",
        "ax.set_title('Data set')\n",
        "pyplot.show()\n",
        "\n",
        "# GP Goal: evolve a function f(x) (mathematical expression or model) with \n",
        "# x=test_points that best fits a target dataset"
      ]
    },
    {
      "cell_type": "code",
      "execution_count": 298,
      "metadata": {
        "colab": {
          "base_uri": "https://localhost:8080/"
        },
        "id": "zI42BiFFS6OZ",
        "outputId": "5d5cdc27-5207-41a3-fa52-88b6f2c0802f"
      },
      "outputs": [
        {
          "output_type": "stream",
          "name": "stdout",
          "text": [
            "   \t      \t                                  fitness                                  \t                          size                         \n",
            "   \t      \t---------------------------------------------------------------------------\t-------------------------------------------------------\n",
            "gen\tnevals\tavg        \tgen\tmax       \tmdn   \tmin   \tnevals\tstd        \tavg  \tgen\tmax\tmdn\tmin\tnevals\tstd    \n",
            "0  \t2000  \t3.87131e+28\t0  \t2.8455e+31\t307590\t302862\t2000  \t8.68975e+29\t3.619\t0  \t7  \t3  \t2  \t2000  \t1.48723\n",
            "1  \t1598  \t3.07742e+27\t1  \t2.05161e+30\t307499\t296289\t1598  \t7.37166e+28\t4.194\t1  \t13 \t3  \t1  \t1598  \t1.92025\n",
            "2  \t1551  \t1.05124e+29\t2  \t8.09943e+31\t306045\t294982\t1551  \t2.33155e+30\t4.71 \t2  \t18 \t4  \t1  \t1551  \t2.22955\n",
            "3  \t1594  \t3.16176e+29\t3  \t8.09943e+31\t305866\t282588\t1594  \t4.18401e+30\t5.2415\t3  \t16 \t5  \t1  \t1594  \t2.50243\n",
            "4  \t1596  \t3.56158e+29\t4  \t8.09943e+31\t304419\t270495\t1596  \t4.67096e+30\t5.988 \t4  \t20 \t5  \t1  \t1596  \t2.86546\n",
            "5  \t1609  \t3.5229e+29 \t5  \t3.23977e+32\t304241\t270495\t1609  \t8.33086e+30\t7.434 \t5  \t25 \t7  \t1  \t1609  \t3.37352\n",
            "6  \t1583  \t1.70824e+29\t6  \t1.82237e+32\t302622\t195667\t1583  \t4.72805e+30\t8.7655\t6  \t25 \t8  \t1  \t1583  \t3.65739\n",
            "7  \t1612  \t2.50045e+31\t7  \t2.73564e+34\t295233\t23388.7\t1612  \t7.77016e+32\t9.72  \t7  \t27 \t9  \t1  \t1612  \t4.17092\n",
            "8  \t1574  \t1.18057e+31\t8  \t2.14392e+34\t286049\t1939.11\t1574  \t4.81704e+32\t11.443\t8  \t36 \t11 \t1  \t1574  \t4.96334\n",
            "9  \t1582  \t4.29429e+31\t9  \t8.57567e+34\t273655\t1939.11\t1582  \t1.9171e+33 \t13.987\t9  \t47 \t13 \t1  \t1582  \t5.90049\n",
            "10 \t1627  \t9.99505e+31\t10 \t1.92329e+35\t249868\t1939.11\t1627  \t4.30215e+33\t17.2515\t10 \t51 \t17 \t1  \t1627  \t7.10544\n",
            "11 \t1546  \t1.04415e+06\t11 \t4.20472e+08\t195667\t1939.11\t1546  \t1.22278e+07\t20.1395\t11 \t57 \t19 \t1  \t1546  \t8.09432\n",
            "12 \t1578  \t1.11169e+32\t12 \t2.12509e+35\t126071\t1802.99\t1578  \t4.75259e+33\t22.731 \t12 \t69 \t22 \t1  \t1578  \t8.89262\n",
            "13 \t1568  \t7.22346e+31\t13 \t1.30071e+35\t89044.5\t1404.59\t1568  \t2.91648e+33\t24.794 \t13 \t76 \t24 \t1  \t1568  \t9.60784\n",
            "14 \t1589  \t3.45325e+30\t14 \t6.02613e+33\t57422.4\t1342.2 \t1589  \t1.36135e+32\t26.5815\t14 \t73 \t26 \t1  \t1589  \t10.2678\n",
            "15 \t1570  \t3.08443e+06\t15 \t1.15084e+09\t40413.5\t707.338\t1570  \t3.61693e+07\t27.3495\t15 \t74 \t26 \t1  \t1570  \t10.7281\n",
            "16 \t1547  \t1.23075e+31\t16 \t2.14392e+34\t33217.8\t625.172\t1547  \t4.84081e+32\t27.6575\t16 \t77 \t26 \t1  \t1547  \t10.7571\n",
            "17 \t1560  \t1.21466e+31\t17 \t2.2707e+34 \t37260.5\t227.649\t1560  \t5.08225e+32\t27.6   \t17 \t78 \t26 \t1  \t1560  \t10.3441\n",
            "18 \t1604  \t1.57901e+31\t18 \t3.156e+34  \t25828.6\t227.649\t1604  \t7.05526e+32\t27.3705\t18 \t78 \t27 \t1  \t1604  \t10.2117\n",
            "19 \t1593  \t2.79503e+31\t19 \t2.97487e+34\t24869  \t86.2403\t1593  \t7.55153e+32\t28.402 \t19 \t83 \t28 \t1  \t1593  \t10.3546\n",
            "20 \t1586  \t4.5147e+30 \t20 \t4.21869e+33\t22049.6\t86.2403\t1586  \t1.3377e+32 \t30.0205\t20 \t90 \t29 \t1  \t1586  \t11.2023\n",
            "21 \t1560  \t1.8509e+31 \t21 \t2.85806e+34\t22692.9\t86.2403\t1560  \t6.52594e+32\t31.654 \t21 \t104\t31 \t1  \t1560  \t12.2209\n",
            "22 \t1581  \t2.10935e+30\t22 \t4.21869e+33\t11570.8\t34.2961\t1581  \t9.43093e+31\t34.351 \t22 \t108\t34 \t1  \t1581  \t12.9115\n",
            "23 \t1561  \t3.51531e+32\t23 \t6.20673e+35\t8014.2 \t34.2961\t1561  \t1.39834e+34\t37.2975\t23 \t104\t36 \t1  \t1561  \t13.5246\n",
            "24 \t1602  \t2.44868e+32\t24 \t4.883e+35  \t6897.88\t28.5477\t1602  \t1.0916e+34 \t39.618 \t24 \t103\t39 \t1  \t1602  \t13.7544\n",
            "25 \t1601  \t3.65868e+06\t25 \t3.48862e+09\t5229.85\t34.2961\t1601  \t8.22526e+07\t40.7445\t25 \t106\t40 \t1  \t1601  \t14.5173\n",
            "26 \t1590  \t2.90426e+32\t26 \t5.7996e+35 \t5099.68\t29.3176\t1590  \t1.29651e+34\t41.361 \t26 \t109\t40 \t1  \t1590  \t14.9218\n",
            "27 \t1553  \t1.11404e+30\t27 \t2.22748e+33\t3391.37\t29.3176\t1553  \t4.97954e+31\t41.4035\t27 \t172\t39 \t1  \t1553  \t15.6545\n",
            "28 \t1568  \t4.41691e+29\t28 \t5.12613e+32\t4779.17\t29.3176\t1568  \t1.41395e+31\t41.2255\t28 \t172\t39 \t1  \t1568  \t16.3044\n",
            "29 \t1577  \t2.61798e+33\t29 \t5.23236e+36\t6050.56\t29.3176\t1577  \t1.1697e+35 \t40.9115\t29 \t136\t38 \t1  \t1577  \t17.1753\n",
            "30 \t1562  \t6.41615e+31\t30 \t9.82103e+34\t5526.37\t29.3176\t1562  \t2.26936e+33\t40.685 \t30 \t139\t38 \t1  \t1562  \t17.6488\n"
          ]
        }
      ],
      "source": [
        "# Define new functions\n",
        "def protectedDiv(left, right):\n",
        "    return left / right if right else 1    \n",
        "    \n",
        "# create Primitive set & classes \n",
        "if \"pset\" not in globals():\n",
        "    pset = gp.PrimitiveSet(\"MAIN\", 1)\n",
        "    pset.addPrimitive(operator.add, 2)\n",
        "    pset.addPrimitive(operator.sub, 2)\n",
        "    pset.addPrimitive(operator.mul, 2)\n",
        "    pset.addPrimitive(protectedDiv, 2)\n",
        "    pset.addPrimitive(operator.neg, 1)\n",
        "    pset.addPrimitive(math.cos, 1)\n",
        "    pset.addPrimitive(math.sin, 1)\n",
        "    pset.addTerminal(1)\n",
        "    pset.addTerminal(-1)    \n",
        "    pset.addEphemeralConstant(\"rand101\", lambda: random.randint(-1,1))\n",
        "    pset.renameArguments(ARG0='x')\n",
        "\n",
        "    creator.create(\"FitnessMin\", base.Fitness, weights=(-1.0,))\n",
        "    creator.create(\"Individual\", gp.PrimitiveTree, fitness=creator.FitnessMin)\n",
        "    \n",
        "toolbox = base.Toolbox()\n",
        "toolbox.register(\"expr\", gp.genHalfAndHalf, pset=pset, min_=1, max_=2)\n",
        "toolbox.register(\"individual\", tools.initIterate, creator.Individual, toolbox.expr)\n",
        "toolbox.register(\"population\", tools.initRepeat, list, toolbox.individual)\n",
        "toolbox.register(\"compile\", gp.compile, pset=pset)\n",
        "\n",
        "\n",
        "def evalSymbReg(individual):\n",
        "    # Transform the tree expression in a callable function\n",
        "    func = toolbox.compile(expr=individual)\n",
        "\n",
        "    if UseSqError:\n",
        "      # squared error\n",
        "      error = (abs(func(x) - measurement(x))**2 for x in test_points)    \n",
        "    else:\n",
        "      # Absolute distance between target curve and solution\n",
        "      error = (abs(func(x) - measurement(x)) for x in test_points)    \n",
        "\n",
        "    return math.fsum(error)/len(test_points),\n",
        "\n",
        "\n",
        "toolbox.register(\"evaluate\", evalSymbReg)\n",
        "toolbox.register(\"select\", tools.selTournament, tournsize=no_tournaments)\n",
        "toolbox.register(\"mate\", gp.cxOnePoint)\n",
        "toolbox.register(\"expr_mut\", gp.genFull, min_=0, max_=2)\n",
        "toolbox.register(\"mutate\", gp.mutUniform, expr=toolbox.expr_mut, pset=pset)\n",
        "\n",
        "toolbox.decorate(\"mate\", gp.staticLimit(key=operator.attrgetter(\"height\"), max_value=64))\n",
        "toolbox.decorate(\"mutate\", gp.staticLimit(key=operator.attrgetter(\"height\"), max_value=64))\n",
        "\n",
        "random.seed()\n",
        "\n",
        "pop = toolbox.population(n=no_population)\n",
        "hof = tools.HallOfFame(1)\n",
        "\n",
        "stats_fit = tools.Statistics(lambda ind: ind.fitness.values)\n",
        "stats_size = tools.Statistics(len)\n",
        "mstats = tools.MultiStatistics(fitness=stats_fit, size=stats_size)\n",
        "mstats.register(\"mdn\", np.median)\n",
        "mstats.register(\"avg\", np.mean)\n",
        "mstats.register(\"std\", np.std)\n",
        "mstats.register(\"min\", np.min)\n",
        "mstats.register(\"max\", np.max)\n",
        "\n",
        "pop, log = algorithms.eaSimple(pop, toolbox, p_xo, p_m, no_generations, stats=mstats,\n",
        "                                       halloffame=hof, verbose=True)"
      ]
    },
    {
      "cell_type": "code",
      "execution_count": 299,
      "metadata": {
        "colab": {
          "base_uri": "https://localhost:8080/",
          "height": 347
        },
        "id": "q2nJXeYRwSaI",
        "outputId": "136bde20-4a67-461b-b840-e302c11b994f"
      },
      "outputs": [
        {
          "output_type": "stream",
          "name": "stdout",
          "text": [
            "Fitnes: [3391.3664004063794, 307589.9740985726]\n",
            "Size: [3.0, 40.0]\n",
            "Evaluations: 49422\n"
          ]
        },
        {
          "output_type": "display_data",
          "data": {
            "text/plain": [
              "<Figure size 432x288 with 1 Axes>"
            ],
            "image/png": "[encoded data removed]"
          },
          "metadata": {
            "needs_background": "light"
          }
        }
      ],
      "source": [
        "# Plot Fitness and Size\n",
        "x = np.arange(0, no_generations+1)\n",
        "s = log.chapters['size'].select(\"mdn\")\n",
        "f = log.chapters['fitness'].select(\"mdn\")\n",
        "\n",
        "fig, ax = pyplot.subplots()\n",
        "ax.plot(x, f/max(f), 'k--', label='Fitness')\n",
        "ax.plot(x, s/max(s), 'k:', label='Size')\n",
        "ax.set_xlabel('Generations')\n",
        "ax.set_ylabel('Normalised Fitness/Size')\n",
        "ax.set_title('Median')\n",
        "legend = ax.legend(shadow=True, fontsize='x-large')\n",
        "print('Fitnes: [' + str(min(f))+', '+str(max(f))+']')\n",
        "print('Size: [' + str(min(s))+', '+str(max(s))+']')\n",
        "print('Evaluations: ' +str(sum(log.select(\"nevals\"))))\n",
        "\n",
        "pyplot.show()"
      ]
    },
    {
      "cell_type": "code",
      "execution_count": 300,
      "metadata": {
        "colab": {
          "base_uri": "https://localhost:8080/"
        },
        "id": "jDB45dBcyp1z",
        "outputId": "b8c525d2-d867-4292-fd29-86484a38c3cc"
      },
      "outputs": [
        {
          "output_type": "stream",
          "name": "stdout",
          "text": [
            "mul(mul(x, add(x, add(1, add(add(x, add(sub(1, -1), add(x, x))), add(add(mul(add(x, add(sin(add(1, x)), x)), x), mul(x, add(x, add(x, x)))), x))))), mul(x, x))\n"
          ]
        }
      ],
      "source": [
        "# Best individual \n",
        "print(hof[0])"
      ]
    },
    {
      "cell_type": "code",
      "execution_count": 302,
      "metadata": {
        "colab": {
          "base_uri": "https://localhost:8080/",
          "height": 265
        },
        "id": "EqJkD3E-ytRU",
        "outputId": "72a999c6-b673-40f2-87b4-f2ef87a075c0"
      },
      "outputs": [
        {
          "output_type": "display_data",
          "data": {
            "text/plain": [
              "<Figure size 432x288 with 1 Axes>"
            ],
            "image/png": "[encoded data removed]"
          },
          "metadata": {
            "needs_background": "light"
          }
        }
      ],
      "source": [
        "# Plot comparison Tagret vs. evolved solution\n",
        "\n",
        "x = test_points\n",
        "f = toolbox.compile(expr=hof[0])\n",
        "\n",
        "y = np.empty(len(x))\n",
        "for i in range(len(x)): y[i] = f(x[i])\n",
        "\n",
        "fig, ax = pyplot.subplots()\n",
        "ax.plot(x, y, 'r-', label='Best Solution')\n",
        "ax.plot(x, target, 'k-', label='Target func')\n",
        "#legend = ax.legend(loc='upper center', shadow=True, fontsize='x-large')\n",
        "legend = ax.legend(shadow=True, fontsize='x-large')\n",
        "\n",
        "pyplot.show()"
      ]
    }
  ],
  "metadata": {
    "colab": {
      "provenance": []
    },
    "kernelspec": {
      "display_name": "Python 3 (ipykernel)",
      "language": "python",
      "name": "python3"
    },
    "language_info": {
      "codemirror_mode": {
        "name": "ipython",
        "version": 3
      },
      "file_extension": ".py",
      "mimetype": "text/x-python",
      "name": "python",
      "nbconvert_exporter": "python",
      "pygments_lexer": "ipython3",
      "version": "3.10.6"
    }
  },
  "nbformat": 4,
  "nbformat_minor": 0
}